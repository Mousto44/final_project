{
 "cells": [
  {
   "cell_type": "markdown",
   "metadata": {},
   "source": [
    "# Projet final\n",
    "## Réalisé par : \n",
    "## OUPRAXAY Philippe\n",
    "## TOURE Almamy Moustapha\n",
    "### Master 2 SEP\n",
    "### Année : 2020/2021"
   ]
  },
  {
   "cell_type": "markdown",
   "metadata": {},
   "source": [
    "## importation des bibliothèques et modules"
   ]
  },
  {
   "cell_type": "code",
   "execution_count": 2,
   "metadata": {},
   "outputs": [],
   "source": [
    "import findspark\n",
    "findspark.init(\"C:\\spark\")\n",
    "from pyspark.sql import SparkSession\n",
    "from pyspark import SparkContext, SparkConf \n",
    "from pyspark.sql.functions import col\n",
    "from pyspark.sql.types import IntegerType\n",
    "from pyspark.sql import functions as F"
   ]
  },
  {
   "cell_type": "code",
   "execution_count": 3,
   "metadata": {},
   "outputs": [],
   "source": [
    "# instantiation de spark \n",
    "spark = SparkSession.builder\\\n",
    "                    .master(\"local[*]\")\\\n",
    "                    .appName(\"Projet_final\")\\\n",
    "                    .getOrCreate()"
   ]
  },
  {
   "cell_type": "markdown",
   "metadata": {},
   "source": [
    "## Questions :  \n",
    "## à partir d’un spark session réaliser ces requêtes en DSL et en SQL\n"
   ]
  },
  {
   "cell_type": "markdown",
   "metadata": {},
   "source": [
    "## 0-creation des tables"
   ]
  },
  {
   "cell_type": "code",
   "execution_count": 4,
   "metadata": {},
   "outputs": [
    {
     "name": "stdout",
     "output_type": "stream",
     "text": [
      "+-----+-----------------+\n",
      "|  aid|             name|\n",
      "+-----+-----------------+\n",
      "|07890| Jean Paul Sartre|\n",
      "|05678|Pierre de Ronsard|\n",
      "+-----+-----------------+\n",
      "\n"
     ]
    }
   ],
   "source": [
    "# Author\n",
    "T1= [(\"07890\", \"Jean Paul Sartre\"), (\"05678\", \"Pierre de Ronsard\")]\n",
    "RDD1 = spark.sparkContext.parallelize(T1)\n",
    "Author = RDD1.toDF([\"aid\", \"name\"])\n",
    "Author.show()\n",
    "Author.createOrReplaceTempView(\"Author_SQL\")"
   ]
  },
  {
   "cell_type": "code",
   "execution_count": 5,
   "metadata": {},
   "outputs": [
    {
     "name": "stdout",
     "output_type": "stream",
     "text": [
      "+----+--------------------+-----------+\n",
      "| bid|               title|   category|\n",
      "+----+--------------------+-----------+\n",
      "|0001|L'existentialisme...|Philosophie|\n",
      "|0002|Huis clos. Suivi ...|Philosophie|\n",
      "|0003|Mignonne allons v...|      Poeme|\n",
      "|0004|          Les Amours|      Poème|\n",
      "+----+--------------------+-----------+\n",
      "\n"
     ]
    }
   ],
   "source": [
    "# Book\n",
    "T2 = [(\"0001\", \"L'existentialisme est un humanisme\", \"Philosophie\"), (\"0002\", \"Huis clos. Suivi de Les Mouches \", \"Philosophie\"),\n",
    "     (\"0003\", \"Mignonne allons voir si la rose\", \"Poeme\"), (\"0004\", \"Les Amours\", \"Poème\")]\n",
    "RDD2 = spark.sparkContext.parallelize(T2)\n",
    "Book = RDD2.toDF([\"bid\", \"title\", \"category\"])\n",
    "Book.show()\n",
    "Book.createOrReplaceTempView(\"Book_SQL\")"
   ]
  },
  {
   "cell_type": "code",
   "execution_count": 6,
   "metadata": {},
   "outputs": [
    {
     "name": "stdout",
     "output_type": "stream",
     "text": [
      "+---+-----+---------+\n",
      "|sid|sname|     dept|\n",
      "+---+-----+---------+\n",
      "|S15| toto|     Math|\n",
      "|S16| popo|      Eco|\n",
      "|S17| fofo|Mécanique|\n",
      "+---+-----+---------+\n",
      "\n"
     ]
    }
   ],
   "source": [
    "# Student\n",
    "T3 = [(\"S15\", \"toto\", \"Math\" ), (\"S16\", \"popo\", \"Eco\"), (\"S17\", \"fofo\", \"Mécanique\") ]\n",
    "RDD3 = spark.sparkContext.parallelize(T3)\n",
    "Student = RDD3.toDF([\"sid\", \"sname\", \"dept\"])\n",
    "Student.show()\n",
    "Student.createOrReplaceTempView(\"Student_SQL\")"
   ]
  },
  {
   "cell_type": "code",
   "execution_count": 7,
   "metadata": {},
   "outputs": [
    {
     "name": "stdout",
     "output_type": "stream",
     "text": [
      "+-----+----+\n",
      "|  aid| bid|\n",
      "+-----+----+\n",
      "|07890|0001|\n",
      "|07890|0002|\n",
      "|05678|0003|\n",
      "|05678|0003|\n",
      "+-----+----+\n",
      "\n"
     ]
    }
   ],
   "source": [
    "# Write\n",
    "T4 = [(\"07890\", \"0001\"), (\"07890\", \"0002\"), (\"05678\", \"0003\"), (\"05678\", \"0003\")]\n",
    "RDD4 = spark.sparkContext.parallelize(T4)\n",
    "Write = RDD4.toDF([\"aid\", \"bid\"])\n",
    "Write.show()\n",
    "Write.createOrReplaceTempView(\"Write_SQL\")"
   ]
  },
  {
   "cell_type": "code",
   "execution_count": 8,
   "metadata": {},
   "outputs": [
    {
     "name": "stdout",
     "output_type": "stream",
     "text": [
      "+---+----+-------------+-----------+\n",
      "|sid| bid|checkout_time|return_time|\n",
      "+---+----+-------------+-----------+\n",
      "|S15|0003|   02-01-2020| 01-02-2020|\n",
      "|S15|0002|   13-06-2020|       null|\n",
      "|S15|0001|   13-06-2020| 13-10-2020|\n",
      "|S16|0002|   24-01-2020| 24-01-2020|\n",
      "|S17|0001|   12-04-2020| 01-07-2020|\n",
      "+---+----+-------------+-----------+\n",
      "\n"
     ]
    }
   ],
   "source": [
    "# borrow\n",
    "T5 = [(\"S15\", \"0003\", \"02-01-2020\", \"01-02-2020\"), (\"S15\", \"0002\", \"13-06-2020\", \"null\"),\n",
    "     (\"S15\", \"0001\", \"13-06-2020\", \"13-10-2020\"), (\"S16\", \"0002\", \"24-01-2020\", \"24-01-2020\"),\n",
    "     (\"S17\", \"0001\", \"12-04-2020\", \"01-07-2020\")]\n",
    "RDD5 = spark.sparkContext.parallelize(T5)\n",
    "Borrow = RDD5.toDF([\"sid\", \"bid\", \"checkout_time\", \"return_time\"])\n",
    "Borrow.show()\n",
    "Borrow.createOrReplaceTempView(\"Borrow_SQL\")"
   ]
  },
  {
   "cell_type": "markdown",
   "metadata": {},
   "source": [
    "## 1-Trouver les titres de tous les livres que l'étudiant sid='S15' a emprunté."
   ]
  },
  {
   "cell_type": "code",
   "execution_count": 9,
   "metadata": {},
   "outputs": [
    {
     "name": "stdout",
     "output_type": "stream",
     "text": [
      "+--------------------+\n",
      "|               titre|\n",
      "+--------------------+\n",
      "|Huis clos. Suivi ...|\n",
      "|Mignonne allons v...|\n",
      "|L'existentialisme...|\n",
      "+--------------------+\n",
      "\n",
      " ######Voici les titres des tous les livres empruntés par l'étudiant S15 ######\n"
     ]
    }
   ],
   "source": [
    "# SQL\n",
    "spark.sql(\"\"\"\n",
    "SELECT title as titre\n",
    "FROM Borrow_SQL \n",
    "RIGHT JOIN Book_SQL \n",
    "    on Borrow_SQL.bid = Book_SQL.bid \n",
    "where sid == 'S15'\n",
    "\"\"\").show()\n",
    "print(\" ######Voici les titres des tous les livres empruntés par l'étudiant S15 ######\")"
   ]
  },
  {
   "cell_type": "code",
   "execution_count": 10,
   "metadata": {},
   "outputs": [
    {
     "name": "stdout",
     "output_type": "stream",
     "text": [
      "+--------------------+\n",
      "|               titre|\n",
      "+--------------------+\n",
      "|Huis clos. Suivi ...|\n",
      "|Mignonne allons v...|\n",
      "|L'existentialisme...|\n",
      "+--------------------+\n",
      "\n"
     ]
    }
   ],
   "source": [
    "# DSL\n",
    "Borrow.join(Book, Borrow.bid == Book.bid)\\\n",
    "     .select(col(\"title\").alias(\"titre\"))\\\n",
    "     .filter(col(\"sid\") == \"S15\")\\\n",
    "     .show()"
   ]
  },
  {
   "cell_type": "markdown",
   "metadata": {},
   "source": [
    "## 2-Trouver les titres de tous les livres qui n'ont jamais été empruntés par un étudiant"
   ]
  },
  {
   "cell_type": "code",
   "execution_count": 11,
   "metadata": {},
   "outputs": [
    {
     "name": "stdout",
     "output_type": "stream",
     "text": [
      "+----------+\n",
      "|     titre|\n",
      "+----------+\n",
      "|Les Amours|\n",
      "+----------+\n",
      "\n",
      "#####Voici les titres de tous les livres n'ayant jamais été empruntés par un étudiant\n"
     ]
    }
   ],
   "source": [
    "# SQL\n",
    "spark.sql(\"\"\" \n",
    "select  B1.title as titre \n",
    "    from Book_SQL as B1\n",
    "    left outer join Borrow_SQL as B2\n",
    "    on B1.bid == B2.bid\n",
    "    where sid is Null\n",
    "\"\"\").show()\n",
    "print(\"#####Voici les titres de tous les livres n'ayant jamais été empruntés par un étudiant\")"
   ]
  },
  {
   "cell_type": "code",
   "execution_count": 12,
   "metadata": {},
   "outputs": [
    {
     "name": "stdout",
     "output_type": "stream",
     "text": [
      "+----------+\n",
      "|     titre|\n",
      "+----------+\n",
      "|Les Amours|\n",
      "+----------+\n",
      "\n"
     ]
    }
   ],
   "source": [
    "#DSL\n",
    "\n",
    "Book.join(Borrow, Borrow.bid == Book.bid, how = 'left_outer')\\\n",
    "     .filter(F.col(\"sid\").isNull())\\\n",
    "     .select(col(\"title\").alias(\"titre\"))\\\n",
    "     .show()"
   ]
  },
  {
   "cell_type": "markdown",
   "metadata": {},
   "source": [
    "## 3-Trouver tous les étudiants qui ont emprunté le livre bid=’0002’"
   ]
  },
  {
   "cell_type": "code",
   "execution_count": 13,
   "metadata": {},
   "outputs": [
    {
     "name": "stdout",
     "output_type": "stream",
     "text": [
      "+----+\n",
      "| Nom|\n",
      "+----+\n",
      "|popo|\n",
      "|toto|\n",
      "+----+\n",
      "\n",
      " ####Voici les noms des étudiants ayant emprunté le livre 00002####\n"
     ]
    }
   ],
   "source": [
    "# SQL\n",
    "\n",
    "spark.sql(\"\"\" \n",
    "select sname as Nom\n",
    "from Book_SQL as B1\n",
    "    left outer join Borrow_SQL as B2 on B1.bid == B2.bid\n",
    "    left outer join Student_SQL as B3 on B2.sid == B3.sid\n",
    "    where B2.bid ==\"0002\"  \n",
    "    \"\"\").show()\n",
    "print(\" ####Voici les noms des étudiants ayant emprunté le livre 00002####\")"
   ]
  },
  {
   "cell_type": "code",
   "execution_count": 14,
   "metadata": {},
   "outputs": [
    {
     "name": "stdout",
     "output_type": "stream",
     "text": [
      "+----+\n",
      "| Nom|\n",
      "+----+\n",
      "|popo|\n",
      "|toto|\n",
      "+----+\n",
      "\n"
     ]
    }
   ],
   "source": [
    "# DSL\n",
    "Student.join(Borrow, Borrow.sid == Student.sid, how = 'left_outer')\\\n",
    "     .filter(F.col(\"bid\") == \"0002\")\\\n",
    "     .select(col(\"sname\").alias(\"Nom\"))\\\n",
    "     .show()"
   ]
  },
  {
   "cell_type": "markdown",
   "metadata": {},
   "source": [
    "## 4-Trouver les titres de tous les livres empruntés par des étudiants en Mécanique (département Mécanique)"
   ]
  },
  {
   "cell_type": "code",
   "execution_count": 15,
   "metadata": {},
   "outputs": [
    {
     "name": "stdout",
     "output_type": "stream",
     "text": [
      "+--------------------+\n",
      "|               Titre|\n",
      "+--------------------+\n",
      "|L'existentialisme...|\n",
      "+--------------------+\n",
      "\n",
      "####Voici les titres de tous les livres empruntés par des étudiants en Mécanique####\n"
     ]
    }
   ],
   "source": [
    "# SQL\n",
    "spark.sql(\"\"\"\n",
    "select title as Titre\n",
    "from Book_SQL as B1\n",
    "left outer join Borrow_SQL as B2\n",
    "    on B1.bid == B2.bid \n",
    "left outer join Student_SQL as B3\n",
    "    on B2.sid== B3.sid\n",
    "where B3.dept == 'Mécanique'\n",
    "\"\"\").show()\n",
    "print(\"####Voici les titres de tous les livres empruntés par des étudiants en Mécanique####\")"
   ]
  },
  {
   "cell_type": "code",
   "execution_count": 16,
   "metadata": {},
   "outputs": [
    {
     "name": "stdout",
     "output_type": "stream",
     "text": [
      "+--------------------+\n",
      "|               Titre|\n",
      "+--------------------+\n",
      "|L'existentialisme...|\n",
      "+--------------------+\n",
      "\n"
     ]
    }
   ],
   "source": [
    "# DSL\n",
    "Book\\\n",
    "    .join(Borrow,['bid'])\\\n",
    "    .join(Student,['sid'])\\\n",
    "    .filter(F.col('dept')=='Mécanique')\\\n",
    "    .select(col('title').alias(\"Titre\"))\\\n",
    "    .show()\n",
    "\n"
   ]
  },
  {
   "cell_type": "markdown",
   "metadata": {},
   "source": [
    "## 5-Trouver les étudiants qui n’ont jamais emprunté de livre."
   ]
  },
  {
   "cell_type": "code",
   "execution_count": 17,
   "metadata": {},
   "outputs": [
    {
     "name": "stdout",
     "output_type": "stream",
     "text": [
      "+---+\n",
      "|Nom|\n",
      "+---+\n",
      "+---+\n",
      "\n",
      "#### Voici Les étudiants n'ayant jamais emprunté de livres ####\n"
     ]
    }
   ],
   "source": [
    "# SQL\n",
    "\n",
    "spark.sql(\"\"\" \n",
    "select sname as Nom\n",
    "from Book_SQL as B1\n",
    "left outer join Borrow_SQL as B2\n",
    "    on B1.bid == B2.bid\n",
    "left outer join Student_SQL as B3\n",
    "    on B2.sid == B3.sid\n",
    "where B1.bid is Null  \n",
    "\"\"\").show()\n",
    "print(\"#### Voici Les étudiants n'ayant jamais emprunté de livres ####\")"
   ]
  },
  {
   "cell_type": "code",
   "execution_count": 18,
   "metadata": {},
   "outputs": [
    {
     "name": "stdout",
     "output_type": "stream",
     "text": [
      "+---+\n",
      "|Nom|\n",
      "+---+\n",
      "+---+\n",
      "\n"
     ]
    }
   ],
   "source": [
    "# DSL\n",
    "Student.join(Borrow, Borrow.sid == Student.sid, how = 'left_outer')\\\n",
    "     .filter(F.col(\"bid\").isNull())\\\n",
    "     .select(col(\"sname\").alias(\"Nom\"))\\\n",
    "     .show()\n"
   ]
  },
  {
   "cell_type": "markdown",
   "metadata": {},
   "source": [
    "## 6- Déterminer l’auteur qui a écrit le plus de livres."
   ]
  },
  {
   "cell_type": "code",
   "execution_count": 19,
   "metadata": {},
   "outputs": [
    {
     "name": "stdout",
     "output_type": "stream",
     "text": [
      "+----------------+--------------+\n",
      "|             Nom|nb_livre_ecrit|\n",
      "+----------------+--------------+\n",
      "|Jean Paul Sartre|             2|\n",
      "+----------------+--------------+\n",
      "\n",
      " ##### Voici l'auteur qui a écrit le plus de livres #####\n"
     ]
    }
   ],
   "source": [
    "# SQL\n",
    "\n",
    "spark.sql(\"\"\"\n",
    "SELECT  name as Nom, count(distinct(bid)) as nb_livre_ecrit\n",
    "FROM Author_SQL \n",
    "RIGHT JOIN Write_SQL \n",
    "    on Author_SQL.aid = Write_SQL.aid \n",
    "group by name\n",
    "order by nb_livre_ecrit desc limit(1)\n",
    "\n",
    "\n",
    "\"\"\").show()\n",
    "print(\" ##### Voici l'auteur qui a écrit le plus de livres #####\")"
   ]
  },
  {
   "cell_type": "code",
   "execution_count": 20,
   "metadata": {},
   "outputs": [
    {
     "name": "stdout",
     "output_type": "stream",
     "text": [
      "+----------------+--------------+\n",
      "|             Nom|nb_livre_ecrit|\n",
      "+----------------+--------------+\n",
      "|Jean Paul Sartre|             2|\n",
      "+----------------+--------------+\n",
      "\n"
     ]
    }
   ],
   "source": [
    "# DSL\n",
    "Author.join(Write, [\"aid\"])\\\n",
    "        .distinct()\\\n",
    "        .groupBy(\"name\")\\\n",
    "        .agg(F.count(\"bid\").alias(\"nombre\"))\\\n",
    "        .sort(F.col(\"nombre\").desc())\\\n",
    "        .select(F.first(\"name\").alias(\"Nom\"),F.first(\"nombre\").alias(\"nb_livre_ecrit\"))\\\n",
    "        .show()"
   ]
  },
  {
   "cell_type": "markdown",
   "metadata": {},
   "source": [
    "## 7- Déterminer les personnes qui n’ont pas encore rendu les livres."
   ]
  },
  {
   "cell_type": "code",
   "execution_count": 21,
   "metadata": {},
   "outputs": [
    {
     "name": "stdout",
     "output_type": "stream",
     "text": [
      "+----+\n",
      "| Nom|\n",
      "+----+\n",
      "|toto|\n",
      "+----+\n",
      "\n",
      "####Voici les personnes n'ayant pas rendu encore les livres ####\n"
     ]
    }
   ],
   "source": [
    "# SQL \n",
    "spark.sql(\"\"\"\n",
    "select sname as Nom\n",
    "from Student_SQL \n",
    "join Borrow_SQL on Student_SQL.sid = Borrow_SQL.sid\n",
    "where Borrow_SQL.return_time = 'null' \n",
    "\"\"\").show()\n",
    "print(\"####Voici les personnes n'ayant pas rendu encore les livres ####\")\n"
   ]
  },
  {
   "cell_type": "code",
   "execution_count": 22,
   "metadata": {},
   "outputs": [
    {
     "name": "stdout",
     "output_type": "stream",
     "text": [
      "+----+\n",
      "| Nom|\n",
      "+----+\n",
      "|toto|\n",
      "+----+\n",
      "\n"
     ]
    }
   ],
   "source": [
    "#DSL\n",
    "Borrow.filter(Borrow.return_time =='null')\\\n",
    "    .join(Student, Borrow.sid==Student.sid)\\\n",
    "    .select(col(\"sname\").alias(\"Nom\"))\\\n",
    "    .show()\n"
   ]
  },
  {
   "cell_type": "markdown",
   "metadata": {},
   "source": [
    "## 8- Créer une nouvelle colonne dans la table borrow qui prend la valeur 1, si la durée d'emprunt est supérieur à 3 mois,  sinon 0. "
   ]
  },
  {
   "cell_type": "code",
   "execution_count": 23,
   "metadata": {},
   "outputs": [
    {
     "name": "stdout",
     "output_type": "stream",
     "text": [
      "+---+----+-------------+-----------+---------------+\n",
      "|sid| bid|checkout_time|return_time|plus que 3 mois|\n",
      "+---+----+-------------+-----------+---------------+\n",
      "|S15|0003|   02-01-2020| 01-02-2020|              0|\n",
      "|S15|0002|   13-06-2020|       null|              0|\n",
      "|S15|0001|   13-06-2020| 13-10-2020|              1|\n",
      "|S16|0002|   24-01-2020| 24-01-2020|              0|\n",
      "|S17|0001|   12-04-2020| 01-07-2020|              0|\n",
      "+---+----+-------------+-----------+---------------+\n",
      "\n"
     ]
    }
   ],
   "source": [
    "#sql\n",
    "spark.sql(\"\"\"\n",
    "    select *,\n",
    "    case\n",
    "        when (months_between(to_date(`return_time`, 'dd-MM-yyyy'),\n",
    "                   to_date(`checkout_time`, 'dd-MM-yyyy')) >= 3) then 1\n",
    "        else 0\n",
    "    end as `plus que 3 mois`\n",
    "    from Borrow_SQL\n",
    "\"\"\").show()"
   ]
  },
  {
   "cell_type": "code",
   "execution_count": 24,
   "metadata": {},
   "outputs": [
    {
     "name": "stdout",
     "output_type": "stream",
     "text": [
      "+---+----+-------------+-----------+--------------+----------+\n",
      "|sid| bid|checkout_time|return_time|plus_de_3_mois|     temps|\n",
      "+---+----+-------------+-----------+--------------+----------+\n",
      "|S15|0003|   02-01-2020| 01-02-2020|             0|0.96774194|\n",
      "|S15|0002|   13-06-2020|       null|             0|      null|\n",
      "|S15|0001|   13-06-2020| 13-10-2020|             1|       4.0|\n",
      "|S16|0002|   24-01-2020| 24-01-2020|             0|       0.0|\n",
      "|S17|0001|   12-04-2020| 01-07-2020|             0|2.64516129|\n",
      "+---+----+-------------+-----------+--------------+----------+\n",
      "\n"
     ]
    }
   ],
   "source": [
    "# DSL\n",
    "\n",
    "Borrow2=Borrow.withColumn(\"debut\", F.to_date(F.col(\"checkout_time\"), \"dd-MM-yyyy\"))\\\n",
    "    .withColumn(\"retour\", F.to_date(F.col(\"return_time\"), \"dd-MM-yyyy\"))\\\n",
    "    .withColumn(\"temps\", F.months_between(F.col(\"retour\"), F.col(\"debut\")))\\\n",
    "    .withColumn(\"plus_de_3_mois\", (F.when(F.col(\"temps\")>=3, 1).otherwise(0)))\\\n",
    "    .select(\"sid\", \"bid\", \"checkout_time\", \"return_time\", \"plus_de_3_mois\", \"temps\")\n",
    "Borrow2.show()"
   ]
  },
  {
   "cell_type": "code",
   "execution_count": 25,
   "metadata": {},
   "outputs": [],
   "source": [
    "# exportation du resultat\n",
    "Borrow2.toPandas().to_csv(\"contention/dtaa.csv\", header = True)\n"
   ]
  },
  {
   "cell_type": "markdown",
   "metadata": {},
   "source": [
    "## 9-déterminer les livres qui n’ont jamais été empruntés. identique à la 2 eme question"
   ]
  },
  {
   "cell_type": "code",
   "execution_count": 26,
   "metadata": {},
   "outputs": [
    {
     "name": "stdout",
     "output_type": "stream",
     "text": [
      "+----------+\n",
      "|     title|\n",
      "+----------+\n",
      "|Les Amours|\n",
      "+----------+\n",
      "\n"
     ]
    }
   ],
   "source": [
    "# SQL\n",
    "spark.sql(\"\"\" select B1.title\n",
    "    from Book_SQL as B1\n",
    "    left outer join Borrow_SQL as B2\n",
    "    on B1.bid == B2.bid\n",
    "    where sid is Null\"\"\").show()"
   ]
  },
  {
   "cell_type": "code",
   "execution_count": 27,
   "metadata": {},
   "outputs": [
    {
     "name": "stdout",
     "output_type": "stream",
     "text": [
      "+----------+\n",
      "|     title|\n",
      "+----------+\n",
      "|Les Amours|\n",
      "+----------+\n",
      "\n"
     ]
    }
   ],
   "source": [
    "# DSL\n",
    "Book.join(Borrow, Borrow.bid == Book.bid, how = 'left_outer')\\\n",
    "     .filter(F.col(\"sid\").isNull())\\\n",
    "     .select( \"title\")\\\n",
    "     .show()"
   ]
  },
  {
   "cell_type": "code",
   "execution_count": null,
   "metadata": {},
   "outputs": [],
   "source": []
  }
 ],
 "metadata": {
  "kernelspec": {
   "display_name": "Python 3",
   "language": "python",
   "name": "python3"
  },
  "language_info": {
   "codemirror_mode": {
    "name": "ipython",
    "version": 3
   },
   "file_extension": ".py",
   "mimetype": "text/x-python",
   "name": "python",
   "nbconvert_exporter": "python",
   "pygments_lexer": "ipython3",
   "version": "3.7.0"
  }
 },
 "nbformat": 4,
 "nbformat_minor": 2
}
